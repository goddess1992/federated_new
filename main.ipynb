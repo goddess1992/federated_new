{
  "cells": [
    {
      "cell_type": "markdown",
      "metadata": {
        "id": "view-in-github",
        "colab_type": "text"
      },
      "source": [
        "<a href=\"https://colab.research.google.com/github/goddess1992/federated_new/blob/master/main.ipynb\" target=\"_parent\"><img src=\"https://colab.research.google.com/assets/colab-badge.svg\" alt=\"Open In Colab\"/></a>"
      ]
    },
    {
      "cell_type": "markdown",
      "source": [
        "Installations:"
      ],
      "metadata": {
        "id": "RaxA4sQ2WdJl"
      }
    },
    {
      "cell_type": "code",
      "metadata": {
        "id": "wbvMlHd_QwMG",
        "colab": {
          "base_uri": "https://localhost:8080/"
        },
        "outputId": "53b525b5-9ec9-48b1-b4dd-b8b5bcf831ba"
      },
      "source": [
        "%pip install ultralytics\n",
        "import ultralytics\n",
        "ultralytics.checks()"
      ],
      "execution_count": 1,
      "outputs": [
        {
          "output_type": "stream",
          "name": "stderr",
          "text": [
            "Ultralytics YOLOv8.0.141 🚀 Python-3.10.6 torch-2.0.1+cu118 CPU (Intel Xeon 2.20GHz)\n",
            "Setup complete ✅ (2 CPUs, 12.7 GB RAM, 24.3/107.7 GB disk)\n"
          ]
        }
      ]
    },
    {
      "cell_type": "code",
      "metadata": {
        "id": "zR9ZbuQCH7FX"
      },
      "source": [
        "# Run inference on an image with YOLOv8n\n",
        "!yolo predict model=yolov8n.pt source='https://ultralytics.com/images/zidane.jpg'"
      ],
      "execution_count": null,
      "outputs": []
    },
    {
      "cell_type": "code",
      "metadata": {
        "id": "WQPtK1QYVaD_",
        "colab": {
          "base_uri": "https://localhost:8080/",
          "height": 101,
          "referenced_widgets": [
            "1e354f192c844dd5a18c56691e8d6945",
            "057fc853e71f4e1597d7432d1822e7e5",
            "6f173d18a3ea4d2d98d0baba58b4d24c",
            "f056b94796864b2a86f731f29b627055",
            "94a5a2451ecc40e4a785913c487f0534",
            "5619c5bad49d4201bbe375aa8ec170f4",
            "f86091588f1645d6b688878edfdbb644",
            "94cd11a5f26a4fc598467b0fc85d06d8",
            "c3306b659fdb432da26f39e043a55d50",
            "cd5d51a5e8104ff68c27bd8ae102c250",
            "3c3cab700e354af29d506da706b363d8"
          ]
        },
        "outputId": "2b9ab78a-13da-4f73-a5e0-772028a6b1a0"
      },
      "source": [
        "# Download COCO val\n",
        "import torch\n",
        "torch.hub.download_url_to_file('https://ultralytics.com/assets/coco2017val.zip', 'tmp.zip')  # download (780M - 5000 images)\n",
        "!unzip -q tmp.zip -d datasets && rm tmp.zip  # unzip"
      ],
      "execution_count": null,
      "outputs": [
        {
          "output_type": "display_data",
          "data": {
            "text/plain": [
              "  0%|          | 0.00/780M [00:00<?, ?B/s]"
            ],
            "application/vnd.jupyter.widget-view+json": {
              "version_major": 2,
              "version_minor": 0,
              "model_id": "1e354f192c844dd5a18c56691e8d6945"
            }
          },
          "metadata": {}
        },
        {
          "output_type": "stream",
          "name": "stdout",
          "text": [
            "replace datasets/coco/.DS_Store? [y]es, [n]o, [A]ll, [N]one, [r]ename: a\n",
            "error:  invalid response [a]\n",
            "replace datasets/coco/.DS_Store? [y]es, [n]o, [A]ll, [N]one, [r]ename: A\n"
          ]
        }
      ]
    },
    {
      "cell_type": "code",
      "metadata": {
        "outputId": "8c4ce19a-7d6a-4ddf-c604-c3bc363efffb",
        "colab": {
          "base_uri": "https://localhost:8080/"
        },
        "id": "CZ5vGV-lkyry"
      },
      "source": [
        "# Validate YOLOv8n on COCO128 val\n",
        "!yolo val model=yolov8n.pt data=coco128.yaml"
      ],
      "execution_count": null,
      "outputs": [
        {
          "output_type": "stream",
          "name": "stdout",
          "text": [
            "\u001b[34m\u001b[1mval: \u001b[0mScanning /content/datasets/coco128/labels/train2017.cache... 126 images, 2 backgrounds, 0 corrupt: 100% 128/128 [00:00<?, ?it/s]\n",
            "                 Class     Images  Instances      Box(P          R      mAP50  mAP50-95): 100% 8/8 [00:42<00:00,  5.34s/it]\n"
          ]
        }
      ]
    },
    {
      "cell_type": "code",
      "source": [
        "from ultralytics import YOLO\n",
        "\n",
        "# Load a model\n",
        "model = YOLO('yolov8n.yaml')  # build a new model from scratch\n",
        "model = YOLO('yolov8n.pt')  # load a pretrained model (recommended for training)\n",
        "\n",
        "# Use the model\n",
        "results = model.train(data='coco128.yaml', epochs=3)  # train the model\n",
        "results = model.val()  # evaluate model performance on the validation set\n",
        "results = model('https://ultralytics.com/images/bus.jpg')  # predict on an image\n",
        "results = model.export(format='onnx')  # export the model to ONNX format"
      ],
      "metadata": {
        "id": "bpF9-vS_DAaf"
      },
      "execution_count": null,
      "outputs": []
    },
    {
      "cell_type": "code",
      "execution_count": null,
      "metadata": {
        "id": "Gc_GOyNXXB35"
      },
      "outputs": [],
      "source": [
        "# depending on your shell, you might need to add `\\` before `[` and `]`.\n",
        "!pip install -q flwr[simulation]"
      ]
    },
    {
      "cell_type": "code",
      "execution_count": null,
      "metadata": {
        "id": "lqrJYPbZZ8aM"
      },
      "outputs": [],
      "source": [
        "# you might see a warning after running the command below, this can be ignored\n",
        "!pip install torch==1.13.1+cpu torchvision==0.14.1+cpu torchaudio==0.13.1 --extra-index-url https://download.pytorch.org/whl/cpu"
      ]
    },
    {
      "cell_type": "code",
      "execution_count": null,
      "metadata": {
        "id": "ybSlTUVXeT3u"
      },
      "outputs": [],
      "source": [
        "!pip install matplotlib"
      ]
    },
    {
      "cell_type": "code",
      "execution_count": null,
      "metadata": {
        "id": "p9aFBjd1cpHs"
      },
      "outputs": [],
      "source": [
        "# we naturally first need to import torch and torchvision\n",
        "import torch\n",
        "from torch.utils.data import DataLoader\n",
        "from torchvision.transforms import ToTensor, Normalize, Compose\n",
        "from torchvision.datasets import MNIST\n",
        "\n",
        "\n",
        "def get_mnist(data_path: str = './data'):\n",
        "    '''This function downloads the MNIST dataset into the `data_path`\n",
        "    directory if it is not there already. WE construct the train/test\n",
        "    split by converting the images into tensors and normalising them'''\n",
        "\n",
        "    # transformation to conver images to tensors and apply normailsation\n",
        "    tr = Compose([ToTensor(), Normalize((0.1307,), (0.3081,))])\n",
        "\n",
        "    # prepare train and test set\n",
        "    trainset = MNIST(data_path, train=True, download=True, transform=tr)\n",
        "    testset = MNIST(data_path, train=False, download=True, transform=tr)\n",
        "\n",
        "    return trainset, testset"
      ]
    },
    {
      "cell_type": "code",
      "execution_count": null,
      "metadata": {
        "id": "pS8sL2hDgvZN"
      },
      "outputs": [],
      "source": [
        "trainset, testset = get_mnist()"
      ]
    },
    {
      "cell_type": "code",
      "execution_count": null,
      "metadata": {
        "id": "pWsIHsq-g4nX"
      },
      "outputs": [],
      "source": [
        "trainset"
      ]
    },
    {
      "cell_type": "code",
      "execution_count": null,
      "metadata": {
        "id": "DCTjwpizikwy"
      },
      "outputs": [],
      "source": [
        "import matplotlib.pyplot as plt\n",
        "\n",
        "\n",
        "# construct histogram\n",
        "all_labels = trainset.targets\n",
        "num_possible_labels = len(set(all_labels.numpy().tolist())) # this counst unique labels (so it should be = 10)\n",
        "plt.hist(all_labels, bins=num_possible_labels)\n",
        "\n",
        "# plot formatting\n",
        "plt.xticks(range(num_possible_labels))\n",
        "plt.grid()\n",
        "plt.xlabel('Label')\n",
        "plt.ylabel('Number of images')\n",
        "plt.title('Class labels distribution for MNIST')"
      ]
    },
    {
      "cell_type": "code",
      "execution_count": null,
      "metadata": {
        "id": "ExGypiVsjMUv"
      },
      "outputs": [],
      "source": [
        "import random\n",
        "import numpy as np\n",
        "\n",
        "def visualise_n_random_examples(trainset_, n: int, verbose: bool = True):\n",
        "  # take n examples at random\n",
        "  idx =list(range(len(trainset_.data)))\n",
        "  random.shuffle(idx)\n",
        "  idx = idx[:n]\n",
        "  if verbose:\n",
        "    print(f\"will display images with idx: {idx}\")\n",
        "\n",
        "\n",
        "  # construct canvas\n",
        "  num_cols = 8\n",
        "  num_rows = int(np.ceil(len(idx)/num_cols))\n",
        "  fig, axs = plt.subplots(figsize=(16, num_rows*2), nrows=num_rows, ncols=num_cols)\n",
        "\n",
        "  # display images on canvas\n",
        "  for c_i, i in enumerate(idx):\n",
        "    axs.flat[c_i].imshow(trainset_.data[i], cmap='gray')"
      ]
    },
    {
      "cell_type": "code",
      "execution_count": null,
      "metadata": {
        "colab": {
          "base_uri": "https://localhost:8080/",
          "height": 714
        },
        "id": "xA2s8vqkmkga",
        "outputId": "684eb2fd-ee8b-4d34-d266-9d8d0aea2d92"
      },
      "outputs": [
        {
          "output_type": "stream",
          "name": "stdout",
          "text": [
            "will display images with idx: [45359, 59328, 54902, 50091, 24815, 34813, 47650, 15110, 12072, 38418, 42888, 28253, 20359, 36713, 29913, 8728, 53902, 48409, 18775, 46579, 989, 51503, 20748, 32148, 30441, 6054, 43571, 42904, 49827, 55066, 56929, 10884]\n"
          ]
        },
        {
          "output_type": "display_data",
          "data": {
            "text/plain": [
              "<Figure size 1600x800 with 32 Axes>"
            ],
            "image/png": "[encoded data removed]"
          },
          "metadata": {}
        }
      ],
      "source": [
        "# it is likely that the plot this function will generate looks familiar to other plots you might have generated before\n",
        "# or you might have encountered in other tutorials. So far, we aren't doing anytning new, Federated Learning will start soon!\n",
        "visualise_n_random_examples(trainset, n=32)"
      ]
    },
    {
      "cell_type": "code",
      "execution_count": null,
      "metadata": {
        "id": "Nr4jR6tspOh4"
      },
      "outputs": [],
      "source": [
        "import torch.nn as nn\n",
        "import torch.nn.functional as F\n",
        "\n",
        "class Net(nn.Module):\n",
        "    def __init__(self, num_classes: int) -> None:\n",
        "        super(Net, self).__init__()\n",
        "        self.conv1 = nn.Conv2d(1, 6, 5)\n",
        "        self.pool = nn.MaxPool2d(2, 2)\n",
        "        self.conv2 = nn.Conv2d(6, 16, 5)\n",
        "        self.fc1 = nn.Linear(16 * 4 * 4, 120)\n",
        "        self.fc2 = nn.Linear(120, 84)\n",
        "        self.fc3 = nn.Linear(84, num_classes)\n",
        "\n",
        "    def forward(self, x: torch.Tensor) -> torch.Tensor:\n",
        "        x = self.pool(F.relu(self.conv1(x)))\n",
        "        x = self.pool(F.relu(self.conv2(x)))\n",
        "        x = x.view(-1, 16 * 4 * 4)\n",
        "        x = F.relu(self.fc1(x))\n",
        "        x = F.relu(self.fc2(x))\n",
        "        x = self.fc3(x)\n",
        "        return x"
      ]
    },
    {
      "cell_type": "code",
      "execution_count": null,
      "metadata": {
        "colab": {
          "base_uri": "https://localhost:8080/"
        },
        "id": "zdVK9c4hpYaC",
        "outputId": "a823ace8-0008-4447-ec09-1e9fd3ea19a7"
      },
      "outputs": [
        {
          "output_type": "stream",
          "name": "stdout",
          "text": [
            "num_parameters = 44426\n"
          ]
        }
      ],
      "source": [
        "model = Net(num_classes=10)\n",
        "num_parameters = sum(value.numel() for value in model.state_dict().values())\n",
        "print(f\"{num_parameters = }\")"
      ]
    },
    {
      "cell_type": "code",
      "execution_count": null,
      "metadata": {
        "id": "DRhz5bcfpw06"
      },
      "outputs": [],
      "source": [
        "def train(net, trainloader, optimizer, epochs):\n",
        "    \"\"\"Train the network on the training set.\"\"\"\n",
        "    criterion = torch.nn.CrossEntropyLoss()\n",
        "    net.train()\n",
        "    for _ in range(epochs):\n",
        "        for images, labels in trainloader:\n",
        "            optimizer.zero_grad()\n",
        "            loss = criterion(net(images), labels)\n",
        "            loss.backward()\n",
        "            optimizer.step()\n",
        "    return net\n",
        "\n",
        "def test(net, testloader):\n",
        "    \"\"\"Validate the network on the entire test set.\"\"\"\n",
        "    criterion = torch.nn.CrossEntropyLoss()\n",
        "    correct, loss = 0, 0.0\n",
        "    net.eval()\n",
        "    with torch.no_grad():\n",
        "        for images, labels in testloader:\n",
        "            outputs = net(images)\n",
        "            loss += criterion(outputs, labels).item()\n",
        "            _, predicted = torch.max(outputs.data, 1)\n",
        "            correct += (predicted == labels).sum().item()\n",
        "    accuracy = correct / len(testloader.dataset)\n",
        "    return loss, accuracy\n",
        "\n",
        "\n",
        "def run_centralised(epochs: int, lr: float, momentum: float=0.9):\n",
        "    \"\"\"A minimal (but complete) training loop\"\"\"\n",
        "\n",
        "    # instantiate the model\n",
        "    model = Net(num_classes=10)\n",
        "\n",
        "    # define optimiser with hyperparameters supplied\n",
        "    optim = torch.optim.SGD(model.parameters(), lr=lr, momentum=momentum)\n",
        "\n",
        "    # get dataset and construct a dataloaders\n",
        "    trainset, testset = get_mnist()\n",
        "    trainloader = DataLoader(trainset, batch_size=64, shuffle=True, num_workers=2)\n",
        "    testloader = DataLoader(testset, batch_size=128)\n",
        "\n",
        "    # train for the specified number of epochs\n",
        "    trained_model = train(model, trainloader, optim, epochs)\n",
        "\n",
        "    # training is completed, then evaluate model on the test set\n",
        "    loss, accuracy = test(trained_model, testloader)\n",
        "    print(f\"{loss = }\")\n",
        "    print(f\"{accuracy = }\")"
      ]
    },
    {
      "cell_type": "markdown",
      "metadata": {
        "id": "76Q0UnqiukYT"
      },
      "source": [
        "Let's run this for 5 epochs (you'll see it reaching close to 99% accuracy -- as expected from a centralised setup with the MNIST dataset)"
      ]
    },
    {
      "cell_type": "code",
      "execution_count": null,
      "metadata": {
        "colab": {
          "base_uri": "https://localhost:8080/"
        },
        "id": "xgJ6mdNSqzpI",
        "outputId": "f6aea2ee-c0c6-4044-9243-aff2e2136a2f"
      },
      "outputs": [
        {
          "output_type": "stream",
          "name": "stdout",
          "text": [
            "loss = 2.6855592668507597\n",
            "accuracy = 0.9891\n"
          ]
        }
      ],
      "source": [
        "run_centralised(epochs=5, lr=0.01)"
      ]
    },
    {
      "cell_type": "code",
      "execution_count": null,
      "metadata": {
        "id": "Lgc5C6yltJCv"
      },
      "outputs": [],
      "source": [
        "from torch.utils.data import random_split\n",
        "\n",
        "def prepare_dataset(num_partitions: int,\n",
        "                    batch_size: int,\n",
        "                    val_ratio: float = 0.1):\n",
        "\n",
        "    \"\"\"This function partitions the training set into N disjoint\n",
        "    subsets, each will become the local dataset of a client. This\n",
        "    function also subsequently partitions each traininsetg partition\n",
        "    into train and validation. The test set is left intact and will\n",
        "    be used by the central server to asses the performance of the\n",
        "    global model. \"\"\"\n",
        "\n",
        "    # get the MNIST datatset\n",
        "    trainset, testset = get_mnist()\n",
        "\n",
        "    # split trainset into `num_partitions` trainsets\n",
        "    num_images = len(trainset) // num_partitions\n",
        "\n",
        "    partition_len = [num_images] * num_partitions\n",
        "\n",
        "    trainsets = random_split(trainset, partition_len, torch.Generator().manual_seed(2023))\n",
        "\n",
        "    # create dataloaders with train+val support\n",
        "    trainloaders = []\n",
        "    valloaders = []\n",
        "    for trainset_ in trainsets:\n",
        "        num_total = len(trainset_)\n",
        "        num_val = int(val_ratio * num_total)\n",
        "        num_train = num_total - num_val\n",
        "\n",
        "        for_train, for_val = random_split(trainset_, [num_train, num_val], torch.Generator().manual_seed(2023))\n",
        "\n",
        "        trainloaders.append(DataLoader(for_train, batch_size=batch_size, shuffle=True, num_workers=2))\n",
        "        valloaders.append(DataLoader(for_val, batch_size=batch_size, shuffle=False, num_workers=2))\n",
        "\n",
        "    # create dataloader for the test set\n",
        "    testloader = DataLoader(testset, batch_size=128)\n",
        "\n",
        "    return trainloaders, valloaders, testloader"
      ]
    },
    {
      "cell_type": "code",
      "execution_count": null,
      "metadata": {
        "colab": {
          "base_uri": "https://localhost:8080/",
          "height": 507
        },
        "id": "I0LbJhrC0evC",
        "outputId": "b2425fc5-a415-4fbd-d48c-fda4edabc907"
      },
      "outputs": [
        {
          "output_type": "stream",
          "name": "stdout",
          "text": [
            "number of images: 540\n"
          ]
        },
        {
          "output_type": "execute_result",
          "data": {
            "text/plain": [
              "Text(0.5, 1.0, 'Class labels distribution for MNIST')"
            ]
          },
          "metadata": {},
          "execution_count": 19
        },
        {
          "output_type": "display_data",
          "data": {
            "text/plain": [
              "<Figure size 640x480 with 1 Axes>"
            ],
            "image/png": "[encoded data removed]"
          },
          "metadata": {}
        }
      ],
      "source": [
        "trainloaders, valloaders, testloader = prepare_dataset(num_partitions=100,\n",
        "                                                       batch_size=32)\n",
        "\n",
        "# first partition\n",
        "train_partition = trainloaders[0].dataset\n",
        "\n",
        "# count data points\n",
        "partition_indices = train_partition.indices\n",
        "print(f\"number of images: {len(partition_indices)}\")\n",
        "\n",
        "# visualise histogram\n",
        "plt.hist(train_partition.dataset.dataset.targets[partition_indices], bins=10)\n",
        "plt.grid()\n",
        "plt.xticks(range(10))\n",
        "plt.xlabel('Label')\n",
        "plt.ylabel('Number of images')\n",
        "plt.title('Class labels distribution for MNIST')"
      ]
    },
    {
      "cell_type": "code",
      "execution_count": null,
      "metadata": {
        "id": "GckcVE2hH5UV"
      },
      "outputs": [],
      "source": [
        "import flwr as fl"
      ]
    },
    {
      "cell_type": "markdown",
      "metadata": {
        "id": "w3zwIYgVH5wU"
      },
      "source": [
        "Now let's defice our Flower Client class:"
      ]
    },
    {
      "cell_type": "code",
      "execution_count": null,
      "metadata": {
        "id": "uXdiNmCE_90y"
      },
      "outputs": [],
      "source": [
        "from collections import OrderedDict\n",
        "from typing import Dict, Tuple\n",
        "\n",
        "import torch\n",
        "from flwr.common import NDArrays, Scalar\n",
        "\n",
        "class FlowerClient(fl.client.NumPyClient):\n",
        "    def __init__(self,\n",
        "                 trainloader,\n",
        "                 vallodaer) -> None:\n",
        "        super().__init__()\n",
        "\n",
        "        self.trainloader = trainloader\n",
        "        self.valloader = vallodaer\n",
        "        self.model = Net(num_classes=10)\n",
        "\n",
        "    def set_parameters(self, parameters):\n",
        "        \"\"\"With the model paramters received from the server,\n",
        "        overwrite the uninitialise model in this class with them.\"\"\"\n",
        "\n",
        "        params_dict = zip(self.model.state_dict().keys(), parameters)\n",
        "        state_dict = OrderedDict({k: torch.Tensor(v) for k, v in params_dict})\n",
        "        # now replace the parameters\n",
        "        self.model.load_state_dict(state_dict, strict=True)\n",
        "\n",
        "    def get_parameters(self, config: Dict[str, Scalar]):\n",
        "        \"\"\"Extract all model parameters and conver them to a list of\n",
        "        NumPy arryas. The server doesn't work with PyTorch/TF/etc.\"\"\"\n",
        "        return [val.cpu().numpy() for _, val in self.model.state_dict().items()]\n",
        "\n",
        "    def fit(self, parameters, config):\n",
        "        \"\"\"This method train the model using the parameters sent by the\n",
        "        server on the dataset of this client. At then end, the parameters\n",
        "        of the locally trained model are communicated back to the server\"\"\"\n",
        "\n",
        "        # copy parameters sent by the server into client's local model\n",
        "        self.set_parameters(parameters)\n",
        "\n",
        "        # Define the optimizer -------------------------------------------------------------- Essentaillly the same as in the centralised example above\n",
        "        optim = torch.optim.SGD(self.model.parameters(), lr=0.01, momentum=0.9)\n",
        "\n",
        "        # do local training  -------------------------------------------------------------- Essentaillly the same as in the centralised example above (but now using the client's data instead of the whole dataset)\n",
        "        train(self.model, self.trainloader, optim, epochs=1)\n",
        "\n",
        "        # return the model parameters to the server as well as extra info (number of training examples in this case)\n",
        "        return self.get_parameters({}), len(self.trainloader), {}\n",
        "\n",
        "    def evaluate(self, parameters: NDArrays, config: Dict[str, Scalar]):\n",
        "        \"\"\"Evaluate the model sent by the server on this client's\n",
        "        local validation set. Then return performance metrics.\"\"\"\n",
        "\n",
        "        self.set_parameters(parameters)\n",
        "        loss, accuracy = test(self.model, self.valloader) # <-------------------------- calls the `test` function, just what we did in the centralised setting (but this time using the client's local validation set)\n",
        "        # send statistics back to the server\n",
        "        return float(loss), len(self.valloader), {'accuracy': accuracy}"
      ]
    },
    {
      "cell_type": "code",
      "execution_count": null,
      "metadata": {
        "id": "gUmUpH5t-Urn"
      },
      "outputs": [],
      "source": [
        "def get_evalulate_fn(testloader):\n",
        "    \"\"\"This is a function that returns a function. The returned\n",
        "    function (i.e. `evaluate_fn`) will be exectued by the strategy\n",
        "    at the end of each round to evaluate the stat of the global\n",
        "    model.\"\"\"\n",
        "    def evaluate_fn(server_round: int, parameters, config):\n",
        "        \"\"\"This function is executed by the strategy it will instantiate\n",
        "        a model and replace its parameters with those from the global model.\n",
        "        The, the model will be evaluate on the test set (recall this is the\n",
        "        whole MNIST test set).\"\"\"\n",
        "\n",
        "        model = Net(num_classes=10)\n",
        "\n",
        "        # set parameters to the model\n",
        "        params_dict = zip(model.state_dict().keys(), parameters)\n",
        "        state_dict = OrderedDict({k: torch.Tensor(v) for k, v in params_dict})\n",
        "        model.load_state_dict(state_dict, strict=True)\n",
        "\n",
        "        # call test\n",
        "        loss, accuracy = test(model, testloader) # <-------------------------- calls the `test` function, just what we did in the centralised setting\n",
        "        return loss, {\"accuracy\": accuracy}\n",
        "\n",
        "    return evaluate_fn\n",
        "\n",
        "\n",
        "# now we can define the strategy\n",
        "strategy = fl.server.strategy.FedAvg(fraction_fit=0.1, # let's sample 10% of the client each round to do local training\n",
        "                                      fraction_evaluate=0.1, # after each round, let's sample 20% of the clients to asses how well the global model is doing\n",
        "                                      min_available_clients=100, # total number of clients available in the experiment\n",
        "                                      evaluate_fn=get_evalulate_fn(testloader)) # a callback to a function that the strategy can execute to evaluate the state of the global model on a centralised dataset\n"
      ]
    },
    {
      "cell_type": "code",
      "execution_count": null,
      "metadata": {
        "id": "frPHAxUg-3Ev"
      },
      "outputs": [],
      "source": [
        "def generate_client_fn(trainloaders, valloaders):\n",
        "    def client_fn(cid: str):\n",
        "        \"\"\"Returns a FlowerClient containing the cid-th data partition\"\"\"\n",
        "\n",
        "        return FlowerClient(trainloader=trainloaders[int(cid)],\n",
        "                            vallodaer=valloaders[int(cid)])\n",
        "    return client_fn\n",
        "\n",
        "client_fn_callback = generate_client_fn(trainloaders, valloaders)"
      ]
    },
    {
      "cell_type": "code",
      "execution_count": null,
      "metadata": {
        "colab": {
          "base_uri": "https://localhost:8080/"
        },
        "id": "VpXEG9cxR9vu",
        "outputId": "a08da376-adfc-48bf-ddbb-eaed6fe97933"
      },
      "outputs": [
        {
          "output_type": "stream",
          "name": "stderr",
          "text": [
            "INFO flwr 2023-07-25 06:22:54,653 | app.py:146 | Starting Flower simulation, config: ServerConfig(num_rounds=10, round_timeout=None)\n",
            "INFO:flwr:Starting Flower simulation, config: ServerConfig(num_rounds=10, round_timeout=None)\n",
            "2023-07-25 06:23:00,424\tINFO worker.py:1621 -- Started a local Ray instance.\n",
            "INFO flwr 2023-07-25 06:23:02,454 | app.py:180 | Flower VCE: Ray initialized with resources: {'CPU': 2.0, 'node:__internal_head__': 1.0, 'node:172.28.0.12': 1.0, 'memory': 7866369639.0, 'object_store_memory': 3933184819.0}\n",
            "INFO:flwr:Flower VCE: Ray initialized with resources: {'CPU': 2.0, 'node:__internal_head__': 1.0, 'node:172.28.0.12': 1.0, 'memory': 7866369639.0, 'object_store_memory': 3933184819.0}\n",
            "INFO flwr 2023-07-25 06:23:02,468 | server.py:86 | Initializing global parameters\n",
            "INFO:flwr:Initializing global parameters\n",
            "INFO flwr 2023-07-25 06:23:02,472 | server.py:273 | Requesting initial parameters from one random client\n",
            "INFO:flwr:Requesting initial parameters from one random client\n",
            "INFO flwr 2023-07-25 06:23:11,648 | server.py:277 | Received initial parameters from one random client\n",
            "INFO:flwr:Received initial parameters from one random client\n",
            "INFO flwr 2023-07-25 06:23:11,654 | server.py:88 | Evaluating initial parameters\n",
            "INFO:flwr:Evaluating initial parameters\n",
            "INFO flwr 2023-07-25 06:23:15,255 | server.py:91 | initial parameters (loss, other metrics): 182.49938654899597, {'accuracy': 0.1077}\n",
            "INFO:flwr:initial parameters (loss, other metrics): 182.49938654899597, {'accuracy': 0.1077}\n",
            "INFO flwr 2023-07-25 06:23:15,260 | server.py:101 | FL starting\n",
            "INFO:flwr:FL starting\n",
            "DEBUG flwr 2023-07-25 06:23:15,268 | server.py:218 | fit_round 1: strategy sampled 10 clients (out of 100)\n",
            "DEBUG:flwr:fit_round 1: strategy sampled 10 clients (out of 100)\n",
            "DEBUG flwr 2023-07-25 06:23:28,123 | server.py:232 | fit_round 1 received 10 results and 0 failures\n",
            "DEBUG:flwr:fit_round 1 received 10 results and 0 failures\n",
            "WARNING flwr 2023-07-25 06:23:28,175 | fedavg.py:243 | No fit_metrics_aggregation_fn provided\n",
            "WARNING:flwr:No fit_metrics_aggregation_fn provided\n",
            "INFO flwr 2023-07-25 06:23:32,341 | server.py:119 | fit progress: (1, 181.00999975204468, {'accuracy': 0.1293}, 17.072858053000346)\n",
            "INFO:flwr:fit progress: (1, 181.00999975204468, {'accuracy': 0.1293}, 17.072858053000346)\n",
            "DEBUG flwr 2023-07-25 06:23:32,349 | server.py:168 | evaluate_round 1: strategy sampled 10 clients (out of 100)\n",
            "DEBUG:flwr:evaluate_round 1: strategy sampled 10 clients (out of 100)\n",
            "DEBUG flwr 2023-07-25 06:23:35,119 | server.py:182 | evaluate_round 1 received 10 results and 0 failures\n",
            "DEBUG:flwr:evaluate_round 1 received 10 results and 0 failures\n",
            "WARNING flwr 2023-07-25 06:23:35,127 | fedavg.py:274 | No evaluate_metrics_aggregation_fn provided\n",
            "WARNING:flwr:No evaluate_metrics_aggregation_fn provided\n",
            "DEBUG flwr 2023-07-25 06:23:35,134 | server.py:218 | fit_round 2: strategy sampled 10 clients (out of 100)\n",
            "DEBUG:flwr:fit_round 2: strategy sampled 10 clients (out of 100)\n",
            "DEBUG flwr 2023-07-25 06:23:40,546 | server.py:232 | fit_round 2 received 10 results and 0 failures\n",
            "DEBUG:flwr:fit_round 2 received 10 results and 0 failures\n",
            "INFO flwr 2023-07-25 06:23:50,416 | server.py:119 | fit progress: (2, 179.4194793701172, {'accuracy': 0.1663}, 35.147459073999926)\n",
            "INFO:flwr:fit progress: (2, 179.4194793701172, {'accuracy': 0.1663}, 35.147459073999926)\n",
            "DEBUG flwr 2023-07-25 06:23:50,424 | server.py:168 | evaluate_round 2: strategy sampled 10 clients (out of 100)\n",
            "DEBUG:flwr:evaluate_round 2: strategy sampled 10 clients (out of 100)\n",
            "DEBUG flwr 2023-07-25 06:23:54,406 | server.py:182 | evaluate_round 2 received 10 results and 0 failures\n",
            "DEBUG:flwr:evaluate_round 2 received 10 results and 0 failures\n",
            "DEBUG flwr 2023-07-25 06:23:54,413 | server.py:218 | fit_round 3: strategy sampled 10 clients (out of 100)\n",
            "DEBUG:flwr:fit_round 3: strategy sampled 10 clients (out of 100)\n",
            "DEBUG flwr 2023-07-25 06:24:02,673 | server.py:232 | fit_round 3 received 10 results and 0 failures\n",
            "DEBUG:flwr:fit_round 3 received 10 results and 0 failures\n",
            "INFO flwr 2023-07-25 06:24:09,939 | server.py:119 | fit progress: (3, 175.95089268684387, {'accuracy': 0.3916}, 54.670879657000114)\n",
            "INFO:flwr:fit progress: (3, 175.95089268684387, {'accuracy': 0.3916}, 54.670879657000114)\n",
            "DEBUG flwr 2023-07-25 06:24:09,952 | server.py:168 | evaluate_round 3: strategy sampled 10 clients (out of 100)\n",
            "DEBUG:flwr:evaluate_round 3: strategy sampled 10 clients (out of 100)\n",
            "DEBUG flwr 2023-07-25 06:24:14,117 | server.py:182 | evaluate_round 3 received 10 results and 0 failures\n",
            "DEBUG:flwr:evaluate_round 3 received 10 results and 0 failures\n",
            "DEBUG flwr 2023-07-25 06:24:14,121 | server.py:218 | fit_round 4: strategy sampled 10 clients (out of 100)\n",
            "DEBUG:flwr:fit_round 4: strategy sampled 10 clients (out of 100)\n",
            "DEBUG flwr 2023-07-25 06:24:19,533 | server.py:232 | fit_round 4 received 10 results and 0 failures\n",
            "DEBUG:flwr:fit_round 4 received 10 results and 0 failures\n",
            "INFO flwr 2023-07-25 06:24:23,217 | server.py:119 | fit progress: (4, 163.17380475997925, {'accuracy': 0.4385}, 67.94891222200022)\n",
            "INFO:flwr:fit progress: (4, 163.17380475997925, {'accuracy': 0.4385}, 67.94891222200022)\n",
            "DEBUG flwr 2023-07-25 06:24:23,226 | server.py:168 | evaluate_round 4: strategy sampled 10 clients (out of 100)\n",
            "DEBUG:flwr:evaluate_round 4: strategy sampled 10 clients (out of 100)\n",
            "DEBUG flwr 2023-07-25 06:24:27,700 | server.py:182 | evaluate_round 4 received 10 results and 0 failures\n",
            "DEBUG:flwr:evaluate_round 4 received 10 results and 0 failures\n",
            "DEBUG flwr 2023-07-25 06:24:27,704 | server.py:218 | fit_round 5: strategy sampled 10 clients (out of 100)\n",
            "DEBUG:flwr:fit_round 5: strategy sampled 10 clients (out of 100)\n",
            "DEBUG flwr 2023-07-25 06:24:35,808 | server.py:232 | fit_round 5 received 10 results and 0 failures\n",
            "DEBUG:flwr:fit_round 5 received 10 results and 0 failures\n",
            "INFO flwr 2023-07-25 06:24:39,371 | server.py:119 | fit progress: (5, 106.71386468410492, {'accuracy': 0.6111}, 84.10238058899995)\n",
            "INFO:flwr:fit progress: (5, 106.71386468410492, {'accuracy': 0.6111}, 84.10238058899995)\n",
            "DEBUG flwr 2023-07-25 06:24:39,377 | server.py:168 | evaluate_round 5: strategy sampled 10 clients (out of 100)\n",
            "DEBUG:flwr:evaluate_round 5: strategy sampled 10 clients (out of 100)\n",
            "DEBUG flwr 2023-07-25 06:24:42,552 | server.py:182 | evaluate_round 5 received 10 results and 0 failures\n",
            "DEBUG:flwr:evaluate_round 5 received 10 results and 0 failures\n",
            "DEBUG flwr 2023-07-25 06:24:42,556 | server.py:218 | fit_round 6: strategy sampled 10 clients (out of 100)\n",
            "DEBUG:flwr:fit_round 6: strategy sampled 10 clients (out of 100)\n",
            "DEBUG flwr 2023-07-25 06:24:50,332 | server.py:232 | fit_round 6 received 10 results and 0 failures\n",
            "DEBUG:flwr:fit_round 6 received 10 results and 0 failures\n",
            "INFO flwr 2023-07-25 06:24:55,628 | server.py:119 | fit progress: (6, 64.10391542315483, {'accuracy': 0.8017}, 100.35964573100046)\n",
            "INFO:flwr:fit progress: (6, 64.10391542315483, {'accuracy': 0.8017}, 100.35964573100046)\n",
            "DEBUG flwr 2023-07-25 06:24:55,635 | server.py:168 | evaluate_round 6: strategy sampled 10 clients (out of 100)\n",
            "DEBUG:flwr:evaluate_round 6: strategy sampled 10 clients (out of 100)\n",
            "DEBUG flwr 2023-07-25 06:24:58,272 | server.py:182 | evaluate_round 6 received 10 results and 0 failures\n",
            "DEBUG:flwr:evaluate_round 6 received 10 results and 0 failures\n",
            "DEBUG flwr 2023-07-25 06:24:58,280 | server.py:218 | fit_round 7: strategy sampled 10 clients (out of 100)\n",
            "DEBUG:flwr:fit_round 7: strategy sampled 10 clients (out of 100)\n",
            "DEBUG flwr 2023-07-25 06:25:03,461 | server.py:232 | fit_round 7 received 10 results and 0 failures\n",
            "DEBUG:flwr:fit_round 7 received 10 results and 0 failures\n",
            "INFO flwr 2023-07-25 06:25:08,436 | server.py:119 | fit progress: (7, 45.46484714746475, {'accuracy': 0.8404}, 113.16805193399978)\n",
            "INFO:flwr:fit progress: (7, 45.46484714746475, {'accuracy': 0.8404}, 113.16805193399978)\n",
            "DEBUG flwr 2023-07-25 06:25:08,444 | server.py:168 | evaluate_round 7: strategy sampled 10 clients (out of 100)\n",
            "DEBUG:flwr:evaluate_round 7: strategy sampled 10 clients (out of 100)\n",
            "DEBUG flwr 2023-07-25 06:25:12,542 | server.py:182 | evaluate_round 7 received 10 results and 0 failures\n",
            "DEBUG:flwr:evaluate_round 7 received 10 results and 0 failures\n",
            "DEBUG flwr 2023-07-25 06:25:12,552 | server.py:218 | fit_round 8: strategy sampled 10 clients (out of 100)\n",
            "DEBUG:flwr:fit_round 8: strategy sampled 10 clients (out of 100)\n",
            "DEBUG flwr 2023-07-25 06:25:18,283 | server.py:232 | fit_round 8 received 10 results and 0 failures\n",
            "DEBUG:flwr:fit_round 8 received 10 results and 0 failures\n",
            "INFO flwr 2023-07-25 06:25:21,846 | server.py:119 | fit progress: (8, 32.61109668761492, {'accuracy': 0.8794}, 126.57797991100051)\n",
            "INFO:flwr:fit progress: (8, 32.61109668761492, {'accuracy': 0.8794}, 126.57797991100051)\n",
            "DEBUG flwr 2023-07-25 06:25:21,850 | server.py:168 | evaluate_round 8: strategy sampled 10 clients (out of 100)\n",
            "DEBUG:flwr:evaluate_round 8: strategy sampled 10 clients (out of 100)\n",
            "DEBUG flwr 2023-07-25 06:25:24,733 | server.py:182 | evaluate_round 8 received 10 results and 0 failures\n",
            "DEBUG:flwr:evaluate_round 8 received 10 results and 0 failures\n",
            "DEBUG flwr 2023-07-25 06:25:24,738 | server.py:218 | fit_round 9: strategy sampled 10 clients (out of 100)\n",
            "DEBUG:flwr:fit_round 9: strategy sampled 10 clients (out of 100)\n",
            "DEBUG flwr 2023-07-25 06:25:33,303 | server.py:232 | fit_round 9 received 10 results and 0 failures\n",
            "DEBUG:flwr:fit_round 9 received 10 results and 0 failures\n",
            "INFO flwr 2023-07-25 06:25:37,316 | server.py:119 | fit progress: (9, 29.744470931589603, {'accuracy': 0.897}, 142.04745438999998)\n",
            "INFO:flwr:fit progress: (9, 29.744470931589603, {'accuracy': 0.897}, 142.04745438999998)\n",
            "DEBUG flwr 2023-07-25 06:25:37,323 | server.py:168 | evaluate_round 9: strategy sampled 10 clients (out of 100)\n",
            "DEBUG:flwr:evaluate_round 9: strategy sampled 10 clients (out of 100)\n",
            "DEBUG flwr 2023-07-25 06:25:40,257 | server.py:182 | evaluate_round 9 received 10 results and 0 failures\n",
            "DEBUG:flwr:evaluate_round 9 received 10 results and 0 failures\n",
            "DEBUG flwr 2023-07-25 06:25:40,260 | server.py:218 | fit_round 10: strategy sampled 10 clients (out of 100)\n",
            "DEBUG:flwr:fit_round 10: strategy sampled 10 clients (out of 100)\n",
            "DEBUG flwr 2023-07-25 06:25:46,358 | server.py:232 | fit_round 10 received 10 results and 0 failures\n",
            "DEBUG:flwr:fit_round 10 received 10 results and 0 failures\n",
            "INFO flwr 2023-07-25 06:25:52,344 | server.py:119 | fit progress: (10, 24.606894329190254, {'accuracy': 0.9028}, 157.07529019699996)\n",
            "INFO:flwr:fit progress: (10, 24.606894329190254, {'accuracy': 0.9028}, 157.07529019699996)\n",
            "DEBUG flwr 2023-07-25 06:25:52,350 | server.py:168 | evaluate_round 10: strategy sampled 10 clients (out of 100)\n",
            "DEBUG:flwr:evaluate_round 10: strategy sampled 10 clients (out of 100)\n",
            "DEBUG flwr 2023-07-25 06:25:55,298 | server.py:182 | evaluate_round 10 received 10 results and 0 failures\n",
            "DEBUG:flwr:evaluate_round 10 received 10 results and 0 failures\n",
            "INFO flwr 2023-07-25 06:25:55,301 | server.py:147 | FL finished in 160.03267095000047\n",
            "INFO:flwr:FL finished in 160.03267095000047\n",
            "INFO flwr 2023-07-25 06:25:55,305 | app.py:218 | app_fit: losses_distributed [(1, 4.583458185195923), (2, 4.53925211429596), (3, 4.459162735939026), (4, 4.114852857589722), (5, 2.776897120475769), (6, 1.6731866896152496), (7, 1.2591541349887847), (8, 0.9225383222103118), (9, 0.7970451682806015), (10, 0.5715361312031746)]\n",
            "INFO:flwr:app_fit: losses_distributed [(1, 4.583458185195923), (2, 4.53925211429596), (3, 4.459162735939026), (4, 4.114852857589722), (5, 2.776897120475769), (6, 1.6731866896152496), (7, 1.2591541349887847), (8, 0.9225383222103118), (9, 0.7970451682806015), (10, 0.5715361312031746)]\n",
            "INFO flwr 2023-07-25 06:25:55,308 | app.py:219 | app_fit: metrics_distributed_fit {}\n",
            "INFO:flwr:app_fit: metrics_distributed_fit {}\n",
            "INFO flwr 2023-07-25 06:25:55,311 | app.py:220 | app_fit: metrics_distributed {}\n",
            "INFO:flwr:app_fit: metrics_distributed {}\n",
            "INFO flwr 2023-07-25 06:25:55,313 | app.py:221 | app_fit: losses_centralized [(0, 182.49938654899597), (1, 181.00999975204468), (2, 179.4194793701172), (3, 175.95089268684387), (4, 163.17380475997925), (5, 106.71386468410492), (6, 64.10391542315483), (7, 45.46484714746475), (8, 32.61109668761492), (9, 29.744470931589603), (10, 24.606894329190254)]\n",
            "INFO:flwr:app_fit: losses_centralized [(0, 182.49938654899597), (1, 181.00999975204468), (2, 179.4194793701172), (3, 175.95089268684387), (4, 163.17380475997925), (5, 106.71386468410492), (6, 64.10391542315483), (7, 45.46484714746475), (8, 32.61109668761492), (9, 29.744470931589603), (10, 24.606894329190254)]\n",
            "INFO flwr 2023-07-25 06:25:55,315 | app.py:222 | app_fit: metrics_centralized {'accuracy': [(0, 0.1077), (1, 0.1293), (2, 0.1663), (3, 0.3916), (4, 0.4385), (5, 0.6111), (6, 0.8017), (7, 0.8404), (8, 0.8794), (9, 0.897), (10, 0.9028)]}\n",
            "INFO:flwr:app_fit: metrics_centralized {'accuracy': [(0, 0.1077), (1, 0.1293), (2, 0.1663), (3, 0.3916), (4, 0.4385), (5, 0.6111), (6, 0.8017), (7, 0.8404), (8, 0.8794), (9, 0.897), (10, 0.9028)]}\n"
          ]
        }
      ],
      "source": [
        "history = fl.simulation.start_simulation(\n",
        "    client_fn=client_fn_callback, # a callback to construct a client\n",
        "    num_clients=100, # total number of clients in the experiment\n",
        "    config=fl.server.ServerConfig(num_rounds=10), # let's run for 10 rounds\n",
        "    strategy=strategy, # the strategy that will orchestrate the whole FL pipeline\n",
        ")"
      ]
    },
    {
      "cell_type": "code",
      "execution_count": null,
      "metadata": {
        "colab": {
          "base_uri": "https://localhost:8080/",
          "height": 527
        },
        "id": "EQ8GnlFVTJkF",
        "outputId": "13675b49-783a-4e9e-bb4d-2cf6a5ab14ab"
      },
      "outputs": [
        {
          "output_type": "stream",
          "name": "stdout",
          "text": [
            "history.metrics_centralized = {'accuracy': [(0, 0.1077), (1, 0.1293), (2, 0.1663), (3, 0.3916), (4, 0.4385), (5, 0.6111), (6, 0.8017), (7, 0.8404), (8, 0.8794), (9, 0.897), (10, 0.9028)]}\n"
          ]
        },
        {
          "output_type": "execute_result",
          "data": {
            "text/plain": [
              "Text(0.5, 1.0, 'MNIST - IID - 100 clients with 10 clients per round')"
            ]
          },
          "metadata": {},
          "execution_count": 25
        },
        {
          "output_type": "display_data",
          "data": {
            "text/plain": [
              "<Figure size 640x480 with 1 Axes>"
            ],
            "image/png": "[encoded data removed]"
          },
          "metadata": {}
        }
      ],
      "source": [
        "print(f\"{history.metrics_centralized = }\")\n",
        "\n",
        "global_accuracy_centralised = history.metrics_centralized['accuracy']\n",
        "round = [data[0] for data in global_accuracy_centralised]\n",
        "acc = [100.0*data[1] for data in global_accuracy_centralised]\n",
        "plt.plot(round, acc)\n",
        "plt.grid()\n",
        "plt.ylabel('Accuracy (%)')\n",
        "plt.xlabel('Round')\n",
        "plt.title('MNIST - IID - 100 clients with 10 clients per round')"
      ]
    },
    {
      "cell_type": "code",
      "execution_count": null,
      "metadata": {
        "id": "b5oglJPNURQE"
      },
      "outputs": [],
      "source": []
    }
  ],
  "metadata": {
    "colab": {
      "provenance": [],
      "include_colab_link": true
    },
    "kernelspec": {
      "display_name": "Python 3",
      "name": "python3"
    },
    "language_info": {
      "name": "python"
    },
    "widgets": {
      "application/vnd.jupyter.widget-state+json": {
        "1e354f192c844dd5a18c56691e8d6945": {
          "model_module": "@jupyter-widgets/controls",
          "model_name": "HBoxModel",
          "model_module_version": "1.5.0",
          "state": {
            "_dom_classes": [],
            "_model_module": "@jupyter-widgets/controls",
            "_model_module_version": "1.5.0",
            "_model_name": "HBoxModel",
            "_view_count": null,
            "_view_module": "@jupyter-widgets/controls",
            "_view_module_version": "1.5.0",
            "_view_name": "HBoxView",
            "box_style": "",
            "children": [
              "IPY_MODEL_057fc853e71f4e1597d7432d1822e7e5",
              "IPY_MODEL_6f173d18a3ea4d2d98d0baba58b4d24c",
              "IPY_MODEL_f056b94796864b2a86f731f29b627055"
            ],
            "layout": "IPY_MODEL_94a5a2451ecc40e4a785913c487f0534"
          }
        },
        "057fc853e71f4e1597d7432d1822e7e5": {
          "model_module": "@jupyter-widgets/controls",
          "model_name": "HTMLModel",
          "model_module_version": "1.5.0",
          "state": {
            "_dom_classes": [],
            "_model_module": "@jupyter-widgets/controls",
            "_model_module_version": "1.5.0",
            "_model_name": "HTMLModel",
            "_view_count": null,
            "_view_module": "@jupyter-widgets/controls",
            "_view_module_version": "1.5.0",
            "_view_name": "HTMLView",
            "description": "",
            "description_tooltip": null,
            "layout": "IPY_MODEL_5619c5bad49d4201bbe375aa8ec170f4",
            "placeholder": "​",
            "style": "IPY_MODEL_f86091588f1645d6b688878edfdbb644",
            "value": "100%"
          }
        },
        "6f173d18a3ea4d2d98d0baba58b4d24c": {
          "model_module": "@jupyter-widgets/controls",
          "model_name": "FloatProgressModel",
          "model_module_version": "1.5.0",
          "state": {
            "_dom_classes": [],
            "_model_module": "@jupyter-widgets/controls",
            "_model_module_version": "1.5.0",
            "_model_name": "FloatProgressModel",
            "_view_count": null,
            "_view_module": "@jupyter-widgets/controls",
            "_view_module_version": "1.5.0",
            "_view_name": "ProgressView",
            "bar_style": "success",
            "description": "",
            "description_tooltip": null,
            "layout": "IPY_MODEL_94cd11a5f26a4fc598467b0fc85d06d8",
            "max": 818322941,
            "min": 0,
            "orientation": "horizontal",
            "style": "IPY_MODEL_c3306b659fdb432da26f39e043a55d50",
            "value": 818322941
          }
        },
        "f056b94796864b2a86f731f29b627055": {
          "model_module": "@jupyter-widgets/controls",
          "model_name": "HTMLModel",
          "model_module_version": "1.5.0",
          "state": {
            "_dom_classes": [],
            "_model_module": "@jupyter-widgets/controls",
            "_model_module_version": "1.5.0",
            "_model_name": "HTMLModel",
            "_view_count": null,
            "_view_module": "@jupyter-widgets/controls",
            "_view_module_version": "1.5.0",
            "_view_name": "HTMLView",
            "description": "",
            "description_tooltip": null,
            "layout": "IPY_MODEL_cd5d51a5e8104ff68c27bd8ae102c250",
            "placeholder": "​",
            "style": "IPY_MODEL_3c3cab700e354af29d506da706b363d8",
            "value": " 780M/780M [00:08&lt;00:00, 131MB/s]"
          }
        },
        "94a5a2451ecc40e4a785913c487f0534": {
          "model_module": "@jupyter-widgets/base",
          "model_name": "LayoutModel",
          "model_module_version": "1.2.0",
          "state": {
            "_model_module": "@jupyter-widgets/base",
            "_model_module_version": "1.2.0",
            "_model_name": "LayoutModel",
            "_view_count": null,
            "_view_module": "@jupyter-widgets/base",
            "_view_module_version": "1.2.0",
            "_view_name": "LayoutView",
            "align_content": null,
            "align_items": null,
            "align_self": null,
            "border": null,
            "bottom": null,
            "display": null,
            "flex": null,
            "flex_flow": null,
            "grid_area": null,
            "grid_auto_columns": null,
            "grid_auto_flow": null,
            "grid_auto_rows": null,
            "grid_column": null,
            "grid_gap": null,
            "grid_row": null,
            "grid_template_areas": null,
            "grid_template_columns": null,
            "grid_template_rows": null,
            "height": null,
            "justify_content": null,
            "justify_items": null,
            "left": null,
            "margin": null,
            "max_height": null,
            "max_width": null,
            "min_height": null,
            "min_width": null,
            "object_fit": null,
            "object_position": null,
            "order": null,
            "overflow": null,
            "overflow_x": null,
            "overflow_y": null,
            "padding": null,
            "right": null,
            "top": null,
            "visibility": null,
            "width": null
          }
        },
        "5619c5bad49d4201bbe375aa8ec170f4": {
          "model_module": "@jupyter-widgets/base",
          "model_name": "LayoutModel",
          "model_module_version": "1.2.0",
          "state": {
            "_model_module": "@jupyter-widgets/base",
            "_model_module_version": "1.2.0",
            "_model_name": "LayoutModel",
            "_view_count": null,
            "_view_module": "@jupyter-widgets/base",
            "_view_module_version": "1.2.0",
            "_view_name": "LayoutView",
            "align_content": null,
            "align_items": null,
            "align_self": null,
            "border": null,
            "bottom": null,
            "display": null,
            "flex": null,
            "flex_flow": null,
            "grid_area": null,
            "grid_auto_columns": null,
            "grid_auto_flow": null,
            "grid_auto_rows": null,
            "grid_column": null,
            "grid_gap": null,
            "grid_row": null,
            "grid_template_areas": null,
            "grid_template_columns": null,
            "grid_template_rows": null,
            "height": null,
            "justify_content": null,
            "justify_items": null,
            "left": null,
            "margin": null,
            "max_height": null,
            "max_width": null,
            "min_height": null,
            "min_width": null,
            "object_fit": null,
            "object_position": null,
            "order": null,
            "overflow": null,
            "overflow_x": null,
            "overflow_y": null,
            "padding": null,
            "right": null,
            "top": null,
            "visibility": null,
            "width": null
          }
        },
        "f86091588f1645d6b688878edfdbb644": {
          "model_module": "@jupyter-widgets/controls",
          "model_name": "DescriptionStyleModel",
          "model_module_version": "1.5.0",
          "state": {
            "_model_module": "@jupyter-widgets/controls",
            "_model_module_version": "1.5.0",
            "_model_name": "DescriptionStyleModel",
            "_view_count": null,
            "_view_module": "@jupyter-widgets/base",
            "_view_module_version": "1.2.0",
            "_view_name": "StyleView",
            "description_width": ""
          }
        },
        "94cd11a5f26a4fc598467b0fc85d06d8": {
          "model_module": "@jupyter-widgets/base",
          "model_name": "LayoutModel",
          "model_module_version": "1.2.0",
          "state": {
            "_model_module": "@jupyter-widgets/base",
            "_model_module_version": "1.2.0",
            "_model_name": "LayoutModel",
            "_view_count": null,
            "_view_module": "@jupyter-widgets/base",
            "_view_module_version": "1.2.0",
            "_view_name": "LayoutView",
            "align_content": null,
            "align_items": null,
            "align_self": null,
            "border": null,
            "bottom": null,
            "display": null,
            "flex": null,
            "flex_flow": null,
            "grid_area": null,
            "grid_auto_columns": null,
            "grid_auto_flow": null,
            "grid_auto_rows": null,
            "grid_column": null,
            "grid_gap": null,
            "grid_row": null,
            "grid_template_areas": null,
            "grid_template_columns": null,
            "grid_template_rows": null,
            "height": null,
            "justify_content": null,
            "justify_items": null,
            "left": null,
            "margin": null,
            "max_height": null,
            "max_width": null,
            "min_height": null,
            "min_width": null,
            "object_fit": null,
            "object_position": null,
            "order": null,
            "overflow": null,
            "overflow_x": null,
            "overflow_y": null,
            "padding": null,
            "right": null,
            "top": null,
            "visibility": null,
            "width": null
          }
        },
        "c3306b659fdb432da26f39e043a55d50": {
          "model_module": "@jupyter-widgets/controls",
          "model_name": "ProgressStyleModel",
          "model_module_version": "1.5.0",
          "state": {
            "_model_module": "@jupyter-widgets/controls",
            "_model_module_version": "1.5.0",
            "_model_name": "ProgressStyleModel",
            "_view_count": null,
            "_view_module": "@jupyter-widgets/base",
            "_view_module_version": "1.2.0",
            "_view_name": "StyleView",
            "bar_color": null,
            "description_width": ""
          }
        },
        "cd5d51a5e8104ff68c27bd8ae102c250": {
          "model_module": "@jupyter-widgets/base",
          "model_name": "LayoutModel",
          "model_module_version": "1.2.0",
          "state": {
            "_model_module": "@jupyter-widgets/base",
            "_model_module_version": "1.2.0",
            "_model_name": "LayoutModel",
            "_view_count": null,
            "_view_module": "@jupyter-widgets/base",
            "_view_module_version": "1.2.0",
            "_view_name": "LayoutView",
            "align_content": null,
            "align_items": null,
            "align_self": null,
            "border": null,
            "bottom": null,
            "display": null,
            "flex": null,
            "flex_flow": null,
            "grid_area": null,
            "grid_auto_columns": null,
            "grid_auto_flow": null,
            "grid_auto_rows": null,
            "grid_column": null,
            "grid_gap": null,
            "grid_row": null,
            "grid_template_areas": null,
            "grid_template_columns": null,
            "grid_template_rows": null,
            "height": null,
            "justify_content": null,
            "justify_items": null,
            "left": null,
            "margin": null,
            "max_height": null,
            "max_width": null,
            "min_height": null,
            "min_width": null,
            "object_fit": null,
            "object_position": null,
            "order": null,
            "overflow": null,
            "overflow_x": null,
            "overflow_y": null,
            "padding": null,
            "right": null,
            "top": null,
            "visibility": null,
            "width": null
          }
        },
        "3c3cab700e354af29d506da706b363d8": {
          "model_module": "@jupyter-widgets/controls",
          "model_name": "DescriptionStyleModel",
          "model_module_version": "1.5.0",
          "state": {
            "_model_module": "@jupyter-widgets/controls",
            "_model_module_version": "1.5.0",
            "_model_name": "DescriptionStyleModel",
            "_view_count": null,
            "_view_module": "@jupyter-widgets/base",
            "_view_module_version": "1.2.0",
            "_view_name": "StyleView",
            "description_width": ""
          }
        }
      }
    }
  },
  "nbformat": 4,
  "nbformat_minor": 0
}